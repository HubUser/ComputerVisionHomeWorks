{
 "cells": [
  {
   "cell_type": "markdown",
   "metadata": {},
   "source": [
    "# HOMEWORK 2\n",
    "For this homework you will have to complete and implement the colour balancing for:\n",
    "* Gray world algorithm\n",
    "* Scale-by-max algorithm\n",
    "\n",
    "You are free to use your own images. Experiment with more images and think about the effect each of the algorithms has on the resulting (balanced) image.\n",
    "\n",
    "### Colour Balancing\n",
    "In this notebook we will show different type of colour balancing making use of von Kries' hypothesis."
   ]
  },
  {
   "cell_type": "code",
   "execution_count": 2,
   "metadata": {},
   "outputs": [],
   "source": [
    "import cv2\n",
    "import numpy as np\n",
    "from matplotlib import pyplot as plt\n",
    "plt.rcParams['figure.figsize'] = [15, 5]"
   ]
  },
  {
   "cell_type": "code",
   "execution_count": null,
   "metadata": {},
   "outputs": [],
   "source": [
    "img = cv2.imread('./data/sea.jpg')\n",
    "img = cv2.cvtColor(img, cv2.COLOR_BGR2RGB)\n",
    "plt.imshow(img);"
   ]
  },
  {
   "cell_type": "markdown",
   "metadata": {},
   "source": [
    "### White patch\n",
    "In white patch algorithm we choose a group of pixels we know they should be white. We then scale the resulting image colour channels by this white patch."
   ]
  },
  {
   "cell_type": "code",
   "execution_count": null,
   "metadata": {},
   "outputs": [],
   "source": [
    "# Define white patch and the coefficients\n",
    "row, col = 485, 864 \n",
    "white = img[row, col, :]\n",
    "coeffs = 255.0/white\n",
    "\n",
    "# Apply white balancing and generate balanced image\n",
    "balanced = np.zeros_like(img, dtype=np.float32)\n",
    "for channel in range(3):\n",
    "    balanced[..., channel] = img[..., channel] * coeffs[channel]\n",
    "\n",
    "# White patching does not guarantee that the dynamic range is preserved, images must be clipped.\n",
    "balanced = balanced/255\n",
    "balanced[balanced > 1] = 1\n",
    "\n",
    "plt.subplot(121), plt.imshow(img)\n",
    "plt.subplot(122), plt.imshow(balanced);"
   ]
  },
  {
   "cell_type": "markdown",
   "metadata": {},
   "source": [
    "### Gray world\n",
    "This algorithm assumes that a scene, on average, is gray."
   ]
  },
  {
   "cell_type": "code",
   "execution_count": null,
   "metadata": {},
   "outputs": [],
   "source": [
    "# Load your image\n",
    "img = cv2.imread('./data/unbalanced_light.png')\n",
    "img = cv2.cvtColor(img, cv2.COLOR_BGR2RGB)\n",
    "\n",
    "# Compute the mean values for all three colour channels (red, green, blue)\n",
    "mean_r = np.mean(img[:, :, 0])\n",
    "mean_g = np.mean(img[:, :, 1])\n",
    "mean_b = np.mean(img[:, :, 2])\n",
    "\n",
    "\n",
    "def calibrate(image, pivot_channel = None):\n",
    "    \"\"\"Compute the coefficients kr, kg, kb\n",
    "    Note: there are 3 coefficients to compute but we only have 2 equations.\n",
    "    Therefore, you have to make an assumption, fix the value of one of the\n",
    "    coefficients and compute the remining two\n",
    "    pivot_channel selects which channel is set to 1.\"\"\"\n",
    "    means = [np.mean(img[:, :, 0]), np.mean(img[:, :, 1]), np.mean(img[:, :, 2])]\n",
    "    if pivot_channel is None:\n",
    "        pivot_channel = means.index(max(means))\n",
    "\n",
    "    ks = [means[pivot_channel] / m for m in means]\n",
    "    return np.clip((img @ np.diag(ks)).astype(int), 0, 255)\n",
    "\n",
    "\n",
    "# Apply color balancing and generate the balanced image. Show the original and the balanced image side by side\n",
    "plt.rcParams['figure.figsize'] = [15, 12]\n",
    "plt.subplot(221), plt.imshow(img)\n",
    "plt.subplot(222), plt.imshow(calibrate(img))\n",
    "plt.subplot(223), plt.imshow(calibrate(img, 1))\n",
    "plt.subplot(224), plt.imshow(calibrate(img, 2));"
   ]
  },
  {
   "cell_type": "markdown",
   "metadata": {},
   "source": [
    "### Scale-by-max\n",
    "This is a straightforward algorithm that scales each colour channel by its maximum value. Note that it is sensitive to noise and saturations."
   ]
  },
  {
   "cell_type": "code",
   "execution_count": null,
   "metadata": {},
   "outputs": [],
   "source": [
    "# Load your image\n",
    "img = cv2.imread('./data/sea.jpg')\n",
    "img = cv2.cvtColor(img, cv2.COLOR_BGR2RGB)\n",
    "\n",
    "# Compute the maximum values for all three colour channels (red, green, blue)\n",
    "max_r = np.max(img[:, :, 0])\n",
    "max_g = np.max(img[:, :, 1])\n",
    "max_b = np.max(img[:, :, 2])\n",
    "\n",
    "print(max_r, max_g, max_b)\n",
    "\n",
    "# Apply scale-by-max balancing and generate the balanced image\n",
    "balanced = img @ np.diag([1 / max_r, 1 / max_g, 1 / max_b])\n",
    "\n",
    "plt.subplot(121), plt.imshow(img)\n",
    "plt.subplot(122), plt.imshow(balanced);"
   ]
  },
  {
   "cell_type": "code",
   "execution_count": null,
   "metadata": {},
   "outputs": [],
   "source": []
  }
 ],
 "metadata": {
  "kernelspec": {
   "display_name": "Python 3 (ipykernel)",
   "language": "python",
   "name": "python3"
  },
  "language_info": {
   "codemirror_mode": {
    "name": "ipython",
    "version": 3
   },
   "file_extension": ".py",
   "mimetype": "text/x-python",
   "name": "python",
   "nbconvert_exporter": "python",
   "pygments_lexer": "ipython3",
   "version": "3.12.3"
  }
 },
 "nbformat": 4,
 "nbformat_minor": 4
}
