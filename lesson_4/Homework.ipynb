{
 "cells": [
  {
   "cell_type": "markdown",
   "metadata": {},
   "source": [
    "# HOMEWORK 4\n",
    "\n",
    "For this homework you are going to implement a lane line detector. Lane line detection is crucial for ADAS (Advanced Driver Assistance Systems) systems and, in particular, for LKA (Lane Keep Assist). You will use a [picture](https://en.wikipedia.org/wiki/Lane_departure_warning_system) from a front facing camera (mounted on the car) and will implement the following steps:\n",
    "* Convert image to gray scale\n",
    "* Compute edge map\n",
    "* Apply Hough transform to obtain line parametrizations"
   ]
  },
  {
   "cell_type": "code",
   "execution_count": 1,
   "metadata": {},
   "outputs": [],
   "source": [
    "import cv2\n",
    "import math\n",
    "import numpy as np\n",
    "from matplotlib import pyplot as plt\n",
    "plt.rcParams['figure.figsize'] = [15, 10]"
   ]
  },
  {
   "cell_type": "markdown",
   "metadata": {},
   "source": [
    "Let's load and show the camera frame."
   ]
  },
  {
   "cell_type": "code",
   "execution_count": null,
   "metadata": {},
   "outputs": [],
   "source": [
    "img = cv2.imread('./data/dashcam.jpg')\n",
    "img = cv2.cvtColor(img, cv2.COLOR_BGR2RGB)\n",
    "img = cv2.resize(img, None, fx=0.5, fy=0.5)\n",
    "plt.imshow(img);"
   ]
  },
  {
   "cell_type": "code",
   "execution_count": 3,
   "metadata": {
    "scrolled": true
   },
   "outputs": [],
   "source": [
    "# Convert image to gray scale\n",
    "gray = cv2.cvtColor(img, cv2.COLOR_RGB2GRAY)"
   ]
  },
  {
   "cell_type": "code",
   "execution_count": 4,
   "metadata": {},
   "outputs": [],
   "source": [
    "# Obtain edge map\n",
    "# Hint: you can use Canny edge detector with th_low = 100, th_high = 150\n",
    "edges = cv2.Canny(gray, threshold1=100, threshold2=150)\n",
    "\n",
    "# We are only interseted in the road so we will remove everything above the horizon\n",
    "edges[0:350] = 0"
   ]
  },
  {
   "cell_type": "code",
   "execution_count": null,
   "metadata": {},
   "outputs": [],
   "source": [
    "# Let's plot the images\n",
    "plt.subplot(121), plt.imshow(img), plt.title('Original')\n",
    "plt.subplot(122), plt.imshow(edges, cmap='gray'), plt.title('Edge map');"
   ]
  },
  {
   "cell_type": "code",
   "execution_count": 6,
   "metadata": {},
   "outputs": [],
   "source": [
    "# Apply Hough transform to parametrize the lines\n",
    "# Hint 1: Offset resolution of 2 pixels and slope resolution of 2 degrees work well in this case\n",
    "# Hint 2: A suitable value for the accumulator threshold is 190\n",
    "lines = cv2.HoughLines(edges, rho=2, theta=2*np.pi/180, threshold=190)\n",
    "# Let's get rid of the unnecessary dimension\n",
    "lines = lines[:, 0, :]"
   ]
  },
  {
   "cell_type": "code",
   "execution_count": null,
   "metadata": {},
   "outputs": [],
   "source": [
    "# Plot the resulting Hough lines\n",
    "result = np.copy(img)\n",
    "        \n",
    "for line in lines:\n",
    "    rho = line[0]\n",
    "    theta = line[1]\n",
    "    \n",
    "    a = math.cos(theta)\n",
    "    b = math.sin(theta)\n",
    "    \n",
    "    x0 = a * rho\n",
    "    y0 = b * rho\n",
    "    \n",
    "    pt1 = (int(x0 + 1000*(-b)), int(y0 + 1000*(a)))\n",
    "    pt2 = (int(x0 - 1000*(-b)), int(y0 - 1000*(a)))\n",
    "    \n",
    "    cv2.line(result, pt1, pt2, 255, 1, cv2.LINE_AA)\n",
    "\n",
    "plt.subplot(121), plt.imshow(edges, cmap='gray'), plt.title('Edge map')\n",
    "plt.subplot(122), plt.imshow(result, cmap='gray'), plt.title('Hough lines')"
   ]
  },
  {
   "cell_type": "markdown",
   "metadata": {},
   "source": [
    "The edge map looks good but the Hough lines are too noisy. Let's clean the Hough lines first by removing all lines that we know cannot represent a lane line. In other words, all lines that are approximately horizontal shall be removed. Remember that horizontal lines correspond to theta = 90 degrees."
   ]
  },
  {
   "cell_type": "code",
   "execution_count": 9,
   "metadata": {},
   "outputs": [],
   "source": [
    "# Filter out all lines that are approximately horizontal (+/- 20 degrees). \n",
    "filtered_lines = []\n",
    "for line in lines:\n",
    "    # Extract theta for current line (remember Hough works with radians)\n",
    "    theta = line[1]\n",
    "    # Keep line if theta is not horizontal\n",
    "    if abs(theta - np.pi / 2) > 0.3:\n",
    "        filtered_lines.append(line)"
   ]
  },
  {
   "cell_type": "code",
   "execution_count": null,
   "metadata": {},
   "outputs": [],
   "source": [
    "# Let's plot the resulting filtered lines\n",
    "result = np.copy(img)\n",
    " \n",
    "for line in filtered_lines:\n",
    "    rho = line[0]\n",
    "    theta = line[1]\n",
    "    \n",
    "    a = math.cos(theta)\n",
    "    b = math.sin(theta)\n",
    "    \n",
    "    x0 = a * rho\n",
    "    y0 = b * rho\n",
    "    \n",
    "    pt1 = (int(x0 + 1000*(-b)), int(y0 + 1000*(a)))\n",
    "    pt2 = (int(x0 - 1000*(-b)), int(y0 - 1000*(a)))\n",
    "    \n",
    "    cv2.line(result, pt1, pt2, 255, 1, cv2.LINE_AA)\n",
    "\n",
    "plt.subplot(121), plt.imshow(edges, cmap='gray'), plt.title('Edge map')\n",
    "plt.subplot(122), plt.imshow(result, cmap='gray'), plt.title('Hough lines');"
   ]
  },
  {
   "cell_type": "markdown",
   "metadata": {},
   "source": [
    "The result is now much better, but still we see some very similar lines. How can we get rid of them?\n",
    "* Let's apply k-means clustering. It will find the clusters of the 6 we see in the picture lines and use the averages."
   ]
  },
  {
   "cell_type": "code",
   "execution_count": null,
   "metadata": {
    "scrolled": true
   },
   "outputs": [],
   "source": [
    "# We will apply k-means clustering to refine the detected lines.\n",
    "# Don't worry, we will learn about the clustering later in the course :-)\n",
    "from sklearn.cluster import KMeans\n",
    "kmeans = KMeans(n_clusters=2).fit(filtered_lines)\n",
    "kmeans.cluster_centers_"
   ]
  },
  {
   "cell_type": "code",
   "execution_count": null,
   "metadata": {
    "scrolled": true
   },
   "outputs": [],
   "source": [
    "# Again, let's plot the resulting filtered lines\n",
    "result = np.copy(img)\n",
    "    \n",
    "for line in kmeans.cluster_centers_:\n",
    "    rho = line[0]\n",
    "    theta = line[1]\n",
    "    \n",
    "    a = math.cos(theta)\n",
    "    b = math.sin(theta)\n",
    "    \n",
    "    x0 = a * rho\n",
    "    y0 = b * rho\n",
    "    \n",
    "    pt1 = (int(x0 + 1000*(-b)), int(y0 + 1000*(a)))\n",
    "    pt2 = (int(x0 - 1000*(-b)), int(y0 - 1000*(a)))\n",
    "    \n",
    "    cv2.line(result, pt1, pt2, 255, 1, cv2.LINE_AA)\n",
    "\n",
    "plt.subplot(121), plt.imshow(edges, cmap='gray'), plt.title('Edge map')\n",
    "plt.subplot(122), plt.imshow(result, cmap='gray'), plt.title('Hough lines');"
   ]
  },
  {
   "cell_type": "markdown",
   "metadata": {},
   "source": [
    "### Questions\n",
    "* Do you see anything strange in the final result?\n",
    "* Do you think the Hough transform resolution is important for obtaining a good result? Why?\n",
    "* Do you think the Hough transform accumulator threshold is important for obtaining a good result? Why?"
   ]
  },
  {
   "cell_type": "markdown",
   "metadata": {},
   "source": [
    "> Do you see anything strange in the final result?\n",
    "\n",
    "Final lines don't accurately align with lane lines. They are an \"average\" of all lines detected on left and right lane lines\n",
    "\n",
    "> Do you think the Hough transform resolution is important for obtaining a good result? Why?\n",
    "\n",
    "Yes, it is important. For this specific domain too fine angular resolution can result in redundant lines to be detected. Looking at edge map we can see at least 10 lines, while we are interested only in two lines outlining our vehicle's lane. Using rather coarse scale can reduce number of lines detected by Hough transform and (potentially) remove necessity of using K-means step.\n",
    "\n",
    "> Do you think the Hough transform accumulator threshold is important for obtaining a good result? Why?\n",
    "\n",
    "Yes, it is important. The image depicts plenty of objects with linear shape that do not belong to road markings. Their hallmark is their dimensions are considerably smaller than of the lane lines. By choosing proper accumulator threshold we can cull such objects from the output set of lines. "
   ]
  }
 ],
 "metadata": {
  "kernelspec": {
   "display_name": "Python 3 (ipykernel)",
   "language": "python",
   "name": "python3"
  },
  "language_info": {
   "codemirror_mode": {
    "name": "ipython",
    "version": 3
   },
   "file_extension": ".py",
   "mimetype": "text/x-python",
   "name": "python",
   "nbconvert_exporter": "python",
   "pygments_lexer": "ipython3",
   "version": "3.12.3"
  }
 },
 "nbformat": 4,
 "nbformat_minor": 4
}
