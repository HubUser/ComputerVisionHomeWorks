{
 "cells": [
  {
   "cell_type": "markdown",
   "metadata": {},
   "source": [
    "# HOMEWORK 3\n",
    "\n",
    "For this homework you are going to implement the **unsharp masking** filter (USM). It is a technique to improve the sharpness of an image by combining the image with its blurred (unsharp) version. See the Wikipedia [page](https://en.wikipedia.org/wiki/Unsharp_masking) for more details.\n",
    "\n",
    "### Unsharp Masking (USP)\n",
    "The USM technique consists of the following steps:\n",
    "* Load the image you will be working with.\n",
    "* Create a blurred (unsharp) version of the original image.\n",
    "* Add the unsharp image (with a certain **weight**) to the original.\n",
    "\n",
    "To sum it up, the USM performs the following operation:\n",
    "\n",
    "`sharpened = original + (original − unsharp) × amount`\n",
    "\n",
    "Even though we provide you an image to work with, you are welcome to use your own images :-)"
   ]
  },
  {
   "cell_type": "code",
   "execution_count": 3,
   "metadata": {},
   "outputs": [],
   "source": [
    "import cv2\n",
    "import numpy as np\n",
    "from matplotlib import pyplot as plt\n",
    "plt.rcParams['figure.figsize'] = [15, 10]"
   ]
  },
  {
   "cell_type": "code",
   "execution_count": null,
   "metadata": {},
   "outputs": [],
   "source": [
    "img = cv2.imread('./data/kodim01.png')\n",
    "img = cv2.cvtColor(img, cv2.COLOR_BGR2RGB)\n",
    "plt.imshow(img);"
   ]
  },
  {
   "cell_type": "code",
   "execution_count": 80,
   "metadata": {},
   "outputs": [],
   "source": [
    "# Create a blurred (unsharp) version of the original image (you can use Gaussian blurring)\n",
    "unsharp = cv2.GaussianBlur(img, ksize=(3,3), sigmaX=5, sigmaY=5)"
   ]
  },
  {
   "cell_type": "code",
   "execution_count": 91,
   "metadata": {},
   "outputs": [],
   "source": [
    "# Create the difference image (original − unsharp)\n",
    "# Note: Remember that you are working with uint8 data types. Any addition or substractions\n",
    "# might result in overflow or underflow, respectively. You can prevent this by casting the images to float.\n",
    "diff = img - unsharp * 0.9"
   ]
  },
  {
   "cell_type": "code",
   "execution_count": null,
   "metadata": {},
   "outputs": [],
   "source": [
    "# Apply USM to get the resulting image using `sharpened = original + (original − unsharp) × amount`\n",
    "# Note: Again, take care of underflows/overflows if necessary.\n",
    "sharpened = img + diff\n",
    "plt.imshow(np.clip(sharpened.astype(int), 0, 255));"
   ]
  },
  {
   "cell_type": "markdown",
   "metadata": {},
   "source": [
    "### Questions\n",
    "* What is a good (reasonable) value for the `amount` parameter?\n",
    " * What happens if it is too small?\n",
    " * What happens if it is too large?"
   ]
  },
  {
   "cell_type": "markdown",
   "metadata": {},
   "source": [
    "> What is a good (reasonable) value for the amount parameter?\n",
    "\n",
    "I have found `amount == 0.9` to work reasonably well for this picture\n",
    "\n",
    "> What happens if it is too small?\n",
    "\n",
    "No difference is visible on the processed image\n",
    "\n",
    "> What happens if it is too large?\n",
    "\n",
    "A lot of pixels have extreme values in their color channels resulting in visual artifacts. Check the image below:"
   ]
  },
  {
   "cell_type": "code",
   "execution_count": null,
   "metadata": {},
   "outputs": [],
   "source": [
    "plt.imshow(np.clip((img * 2 - unsharp).astype(int), 0, 255));"
   ]
  },
  {
   "cell_type": "code",
   "execution_count": null,
   "metadata": {},
   "outputs": [],
   "source": []
  }
 ],
 "metadata": {
  "kernelspec": {
   "display_name": "Python 3 (ipykernel)",
   "language": "python",
   "name": "python3"
  },
  "language_info": {
   "codemirror_mode": {
    "name": "ipython",
    "version": 3
   },
   "file_extension": ".py",
   "mimetype": "text/x-python",
   "name": "python",
   "nbconvert_exporter": "python",
   "pygments_lexer": "ipython3",
   "version": "3.12.3"
  }
 },
 "nbformat": 4,
 "nbformat_minor": 4
}
